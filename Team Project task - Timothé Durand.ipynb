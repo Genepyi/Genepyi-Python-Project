{
 "cells": [
  {
   "cell_type": "markdown",
   "metadata": {
    "collapsed": true,
    "pycharm": {
     "name": "#%% md\n"
    }
   },
   "source": [
    "Q1. Descriptive analysis of data is essential for business analytics"
   ]
  },
  {
   "cell_type": "markdown",
   "source": [
    "(A) Please write a Python code to read all postal codes and save them in a list."
   ],
   "metadata": {
    "collapsed": false,
    "pycharm": {
     "name": "#%% md\n"
    }
   }
  },
  {
   "cell_type": "code",
   "execution_count": 21,
   "outputs": [
    {
     "name": "stdout",
     "output_type": "stream",
     "text": [
      "[['Bordeaux', '33000'], ['Ambares-et-Lagrave', '33440'], ['Ambes', '33810'], ['Artigues-pres-Bordeaux', '33370'], ['Brassens', '33530'], ['Begles', '33130'], ['Blanquefort', '33290'], ['Bruges', '33520'], ['Carbon-Blanc', '33560'], ['Cenon', '33150'], ['Eysines', '33320'], ['Floriac', '33270'], ['Gradignan', '33170'], ['Le Bouscat', '33110'], ['Le Haillan', '33185'], ['Lormont', '33310'], ['Martignas-sur-Jalle', '33127'], ['Merignac', '33700'], ['Pessac', '33600'], ['Saint-Aubin-de-Medoc', '33160'], ['Talence', '33400'], ['Ornon', '33140']]\n"
     ]
    }
   ],
   "source": [
    "# Reading the 'postalcode' .txt file\n",
    "file = open('postalcode.txt', 'r')\n",
    "\n",
    "postal_code = []\n",
    "# Adding each elements of the .txt file to a list named 'postal_code'\n",
    "for line in file.readlines():\n",
    "    post_cod = line.strip().split(',')\n",
    "    postal_code.append(post_cod)\n",
    "\n",
    "print(postal_code)"
   ],
   "metadata": {
    "collapsed": false,
    "pycharm": {
     "name": "#%%\n"
    }
   }
  },
  {
   "cell_type": "markdown",
   "source": [
    "(B) Continue with (A). Please export descriptive statistics of price and size of apartments (i.e., mean, std, min, max, median, Q25, Q75) for every postal code (that you read in A) as a csv file (e.g., 33110.csv, 33440.csv and so on) in Bordeaux Metropole."
   ],
   "metadata": {
    "collapsed": false,
    "pycharm": {
     "name": "#%% md\n"
    }
   }
  },
  {
   "cell_type": "code",
   "execution_count": 22,
   "outputs": [],
   "source": [
    "# Load libraries\n",
    "import pandas as pd"
   ],
   "metadata": {
    "collapsed": false,
    "pycharm": {
     "name": "#%%\n"
    }
   }
  },
  {
   "cell_type": "code",
   "execution_count": 23,
   "outputs": [
    {
     "name": "stdout",
     "output_type": "stream",
     "text": [
      "      date_mutation  valeur_fonciere  code_postal section   type_local  \\\n",
      "0          2014/2/6         155000.0        33000      KX  Appartement   \n",
      "3        2014/10/31         200000.0        33000      HW  Appartement   \n",
      "4        2014/10/31         200000.0        33000      HW  Appartement   \n",
      "6         2015/9/25         212000.0        33000      IW  Appartement   \n",
      "8         2015/10/9         187000.0        33000      HD  Appartement   \n",
      "...             ...              ...          ...     ...          ...   \n",
      "76409     2015/2/26         256000.0        33140      AZ  Appartement   \n",
      "76412     2017/3/29         307000.0        33140      BS  Appartement   \n",
      "76413     2017/3/29         307000.0        33140      BS  Appartement   \n",
      "76428     2014/7/31          83000.0        33140      AB  Appartement   \n",
      "76432     2017/2/14         155000.0        33140      AB  Appartement   \n",
      "\n",
      "       surface_relle_bati  nombre_pieces_principales  surface_terrain  \n",
      "0                      32                          2              NaN  \n",
      "3                      32                          2              NaN  \n",
      "4                      28                          2              NaN  \n",
      "6                      68                          3            106.0  \n",
      "8                      47                          2              NaN  \n",
      "...                   ...                        ...              ...  \n",
      "76409                 102                          4              NaN  \n",
      "76412                  25                          1            659.0  \n",
      "76413                 126                          5            659.0  \n",
      "76428                  48                          2              NaN  \n",
      "76432                  74                          3              NaN  \n",
      "\n",
      "[45758 rows x 8 columns]\n"
     ]
    }
   ],
   "source": [
    "# Opening the 'Bordeaux_Metropole' .csv file\n",
    "df_housing = pd.read_csv('Bordeaux_Metropole.csv')\n",
    "\n",
    "# Selecting only appartments (excluding houses)\n",
    "df_housing_appartment = df_housing.query('type_local == \"Appartement\"')\n",
    "print(df_housing_appartment)"
   ],
   "metadata": {
    "collapsed": false,
    "pycharm": {
     "name": "#%%\n"
    }
   }
  },
  {
   "cell_type": "code",
   "execution_count": 24,
   "outputs": [
    {
     "data": {
      "text/plain": "            valeur_fonciere                                                  \\\n                      count          mean           std      min        25%   \ncode_postal                                                                   \n33000               14235.0  4.534332e+05  8.672420e+05      1.0  139500.00   \n33110                1648.0  4.924541e+05  1.284856e+06      1.0  134601.25   \n33127                 393.0  1.990184e+05  1.875097e+05      1.0  137800.00   \n33130                2466.0  5.743806e+05  1.619805e+06      1.0  135510.00   \n33140                3063.0  6.378683e+05  1.634815e+06  30000.0  149500.00   \n33150                2311.0  4.011639e+05  1.034071e+06      0.0  120176.50   \n33160                 605.0  9.650681e+05  2.263725e+06   2100.0  156000.00   \n33170                1368.0  7.785822e+05  1.846409e+06   1000.0   90950.00   \n33185                 356.0  6.297428e+05  1.613210e+06  75000.0  157374.75   \n33270                 589.0  1.987774e+05  1.474968e+05  25000.0  131500.00   \n33290                 889.0  7.676672e+05  1.754283e+06  30990.0  128500.00   \n33310                1236.0  4.287376e+05  9.568946e+05      0.0  115665.00   \n33320                1208.0  3.709477e+05  7.634388e+05  39480.0  144449.95   \n33370                 544.0  4.133069e+05  1.086696e+06  29190.0  139382.50   \n33400                3921.0  1.046425e+06  2.378162e+06      5.0  109533.00   \n33440                 267.0  3.745676e+05  4.031917e+05  55100.0  114700.00   \n33520                1472.0  2.290274e+05  2.696030e+05      0.0  147000.00   \n33530                 215.0  1.997768e+05  1.279435e+05  73300.0  151254.00   \n33560                 309.0  1.930805e+05  1.648389e+05  30000.0  117670.00   \n33600                2761.0  3.468511e+05  6.934810e+05    250.0  122860.00   \n33700                5820.0  4.321404e+05  1.597139e+06      1.0  129000.00   \n33810                  82.0  2.677392e+05  3.097934e+05  60000.0  132875.00   \n\n                                                 surface_relle_bati  \\\n                   50%          75%          max              count   \ncode_postal                                                           \n33000        236050.00  440000.0000  10789484.00            14235.0   \n33110        174175.00  250625.0000   6662829.00             1648.0   \n33127        161215.38  202500.0000   1203914.73              393.0   \n33130        170673.50  225725.0000   9309300.00             2466.0   \n33140        176567.00  235900.0000   9975263.00             3063.0   \n33150        155000.00  206000.0000   8115000.00             2311.0   \n33160        200000.00  258550.0000   7894646.50              605.0   \n33170        150000.00  231718.1425   9050000.00             1368.0   \n33185        183500.00  230000.0000   7894646.50              356.0   \n33270        163500.00  205000.0000   1360000.00              589.0   \n33290        163500.00  222050.0000   6403637.50              889.0   \n33310        144000.00  184625.0000   3921037.00             1236.0   \n33320        175000.00  223525.0000   6231966.00             1208.0   \n33370        161853.00  207500.0000   7485710.00              544.0   \n33400        166600.00  297000.0000  10500000.00             3921.0   \n33440        168561.87  415000.0000   1258446.20              267.0   \n33520        178000.00  220000.0000   2944440.00             1472.0   \n33530        165426.42  207450.0000    730437.00              215.0   \n33560        135000.00  186604.0000    935000.00              309.0   \n33600        168000.00  242000.0000   4825000.00             2761.0   \n33700        166000.00  220500.0000  16142400.00             5820.0   \n33810        145000.00  188012.5000   1040100.00               82.0   \n\n                        ... nombre_pieces_principales       surface_terrain  \\\n                  mean  ...                       75%   max           count   \ncode_postal             ...                                                   \n33000        55.402669  ...                       3.0  30.0          3235.0   \n33110        64.194782  ...                       4.0   6.0           185.0   \n33127        53.674300  ...                       3.0   5.0            42.0   \n33130        56.206813  ...                       3.0  11.0           364.0   \n33140        52.349657  ...                       3.0   9.0           211.0   \n33150        54.219818  ...                       3.0  11.0           183.0   \n33160        56.844628  ...                       3.0   7.0           177.0   \n33170        54.175439  ...                       3.0   6.0            66.0   \n33185        54.761236  ...                       3.0   6.0            19.0   \n33270        60.008489  ...                       3.0  11.0           108.0   \n33290        58.755906  ...                       3.0   6.0           121.0   \n33310        62.986246  ...                       4.0   6.0           189.0   \n33320        56.190397  ...                       3.0   5.0           106.0   \n33370        55.237132  ...                       3.0   8.0            71.0   \n33400        47.424382  ...                       3.0   6.0           578.0   \n33440        55.636704  ...                       3.0   5.0           129.0   \n33520        59.124321  ...                       3.0  30.0            39.0   \n33530        51.748837  ...                       3.0   4.0            25.0   \n33560        52.352751  ...                       3.0   6.0            25.0   \n33600        57.494748  ...                       3.0   7.0           278.0   \n33700        60.837113  ...                       4.0   7.0           212.0   \n33810        57.097561  ...                       3.0   6.0            27.0   \n\n                                                                         \\\n                     mean          std    min     25%      50%      75%   \ncode_postal                                                               \n33000          256.815147   377.309700    5.0   95.00    148.0    243.0   \n33110         1852.837838  1903.516382   39.0  271.00    727.0   4370.0   \n33127          581.476190   757.519033   27.0   27.00     27.0   1302.0   \n33130         4053.244505  7117.372360   33.0  452.00   2046.0   7472.0   \n33140         1881.061611  1997.888119   71.0  592.00    705.0   2000.0   \n33150         1662.081967  1454.984098   33.0  394.50   1325.0   2850.0   \n33160         1859.824859  1874.290802    1.0  337.00   1000.0   4127.0   \n33170        11379.045455  9406.844313   95.0  500.00  19387.0  19387.0   \n33185          505.842105   313.277524  140.0  255.50    485.0    613.0   \n33270          590.509259   450.188216   23.0  255.75    441.0    809.0   \n33290          952.090909  2167.983641   86.0  174.00    499.0   1288.0   \n33310          893.592593  1206.195076   39.0  280.00    500.0    947.0   \n33320         1257.679245  1225.476510   29.0  396.75    780.0   1968.0   \n33370         2568.788732  6685.481628   61.0  356.00    672.0   2000.0   \n33400         1929.991349  2074.231461   40.0  481.75    979.0   2040.0   \n33440         1470.372093  1217.315843   63.0  545.00    961.0   1830.0   \n33520         1749.871795  2018.231146  204.0  494.00   1924.0   1924.0   \n33530          308.040000   109.395110   90.0  259.00    264.0    359.0   \n33560         3357.920000  4974.637331  126.0  500.00    848.0   4496.0   \n33600         1563.701439  3350.403541   58.0  500.00    870.0   2069.0   \n33700         5589.518868  4582.380988   71.0  571.75   3571.0  10500.0   \n33810         1175.592593   639.132180   85.0  948.00   1243.0   1816.0   \n\n                      \n                 max  \ncode_postal           \n33000         2338.0  \n33110         4370.0  \n33127         2697.0  \n33130        42552.0  \n33140         5906.0  \n33150         9596.0  \n33160        12452.0  \n33170        19387.0  \n33185         1046.0  \n33270         1508.0  \n33290        20300.0  \n33310         6974.0  \n33320         3526.0  \n33370        39865.0  \n33400         7092.0  \n33440         5321.0  \n33520        12469.0  \n33530          729.0  \n33560        18039.0  \n33600        39193.0  \n33700        10500.0  \n33810         1816.0  \n\n[22 rows x 32 columns]",
      "text/html": "<div>\n<style scoped>\n    .dataframe tbody tr th:only-of-type {\n        vertical-align: middle;\n    }\n\n    .dataframe tbody tr th {\n        vertical-align: top;\n    }\n\n    .dataframe thead tr th {\n        text-align: left;\n    }\n\n    .dataframe thead tr:last-of-type th {\n        text-align: right;\n    }\n</style>\n<table border=\"1\" class=\"dataframe\">\n  <thead>\n    <tr>\n      <th></th>\n      <th colspan=\"8\" halign=\"left\">valeur_fonciere</th>\n      <th colspan=\"2\" halign=\"left\">surface_relle_bati</th>\n      <th>...</th>\n      <th colspan=\"2\" halign=\"left\">nombre_pieces_principales</th>\n      <th colspan=\"8\" halign=\"left\">surface_terrain</th>\n    </tr>\n    <tr>\n      <th></th>\n      <th>count</th>\n      <th>mean</th>\n      <th>std</th>\n      <th>min</th>\n      <th>25%</th>\n      <th>50%</th>\n      <th>75%</th>\n      <th>max</th>\n      <th>count</th>\n      <th>mean</th>\n      <th>...</th>\n      <th>75%</th>\n      <th>max</th>\n      <th>count</th>\n      <th>mean</th>\n      <th>std</th>\n      <th>min</th>\n      <th>25%</th>\n      <th>50%</th>\n      <th>75%</th>\n      <th>max</th>\n    </tr>\n    <tr>\n      <th>code_postal</th>\n      <th></th>\n      <th></th>\n      <th></th>\n      <th></th>\n      <th></th>\n      <th></th>\n      <th></th>\n      <th></th>\n      <th></th>\n      <th></th>\n      <th></th>\n      <th></th>\n      <th></th>\n      <th></th>\n      <th></th>\n      <th></th>\n      <th></th>\n      <th></th>\n      <th></th>\n      <th></th>\n      <th></th>\n    </tr>\n  </thead>\n  <tbody>\n    <tr>\n      <th>33000</th>\n      <td>14235.0</td>\n      <td>4.534332e+05</td>\n      <td>8.672420e+05</td>\n      <td>1.0</td>\n      <td>139500.00</td>\n      <td>236050.00</td>\n      <td>440000.0000</td>\n      <td>10789484.00</td>\n      <td>14235.0</td>\n      <td>55.402669</td>\n      <td>...</td>\n      <td>3.0</td>\n      <td>30.0</td>\n      <td>3235.0</td>\n      <td>256.815147</td>\n      <td>377.309700</td>\n      <td>5.0</td>\n      <td>95.00</td>\n      <td>148.0</td>\n      <td>243.0</td>\n      <td>2338.0</td>\n    </tr>\n    <tr>\n      <th>33110</th>\n      <td>1648.0</td>\n      <td>4.924541e+05</td>\n      <td>1.284856e+06</td>\n      <td>1.0</td>\n      <td>134601.25</td>\n      <td>174175.00</td>\n      <td>250625.0000</td>\n      <td>6662829.00</td>\n      <td>1648.0</td>\n      <td>64.194782</td>\n      <td>...</td>\n      <td>4.0</td>\n      <td>6.0</td>\n      <td>185.0</td>\n      <td>1852.837838</td>\n      <td>1903.516382</td>\n      <td>39.0</td>\n      <td>271.00</td>\n      <td>727.0</td>\n      <td>4370.0</td>\n      <td>4370.0</td>\n    </tr>\n    <tr>\n      <th>33127</th>\n      <td>393.0</td>\n      <td>1.990184e+05</td>\n      <td>1.875097e+05</td>\n      <td>1.0</td>\n      <td>137800.00</td>\n      <td>161215.38</td>\n      <td>202500.0000</td>\n      <td>1203914.73</td>\n      <td>393.0</td>\n      <td>53.674300</td>\n      <td>...</td>\n      <td>3.0</td>\n      <td>5.0</td>\n      <td>42.0</td>\n      <td>581.476190</td>\n      <td>757.519033</td>\n      <td>27.0</td>\n      <td>27.00</td>\n      <td>27.0</td>\n      <td>1302.0</td>\n      <td>2697.0</td>\n    </tr>\n    <tr>\n      <th>33130</th>\n      <td>2466.0</td>\n      <td>5.743806e+05</td>\n      <td>1.619805e+06</td>\n      <td>1.0</td>\n      <td>135510.00</td>\n      <td>170673.50</td>\n      <td>225725.0000</td>\n      <td>9309300.00</td>\n      <td>2466.0</td>\n      <td>56.206813</td>\n      <td>...</td>\n      <td>3.0</td>\n      <td>11.0</td>\n      <td>364.0</td>\n      <td>4053.244505</td>\n      <td>7117.372360</td>\n      <td>33.0</td>\n      <td>452.00</td>\n      <td>2046.0</td>\n      <td>7472.0</td>\n      <td>42552.0</td>\n    </tr>\n    <tr>\n      <th>33140</th>\n      <td>3063.0</td>\n      <td>6.378683e+05</td>\n      <td>1.634815e+06</td>\n      <td>30000.0</td>\n      <td>149500.00</td>\n      <td>176567.00</td>\n      <td>235900.0000</td>\n      <td>9975263.00</td>\n      <td>3063.0</td>\n      <td>52.349657</td>\n      <td>...</td>\n      <td>3.0</td>\n      <td>9.0</td>\n      <td>211.0</td>\n      <td>1881.061611</td>\n      <td>1997.888119</td>\n      <td>71.0</td>\n      <td>592.00</td>\n      <td>705.0</td>\n      <td>2000.0</td>\n      <td>5906.0</td>\n    </tr>\n    <tr>\n      <th>33150</th>\n      <td>2311.0</td>\n      <td>4.011639e+05</td>\n      <td>1.034071e+06</td>\n      <td>0.0</td>\n      <td>120176.50</td>\n      <td>155000.00</td>\n      <td>206000.0000</td>\n      <td>8115000.00</td>\n      <td>2311.0</td>\n      <td>54.219818</td>\n      <td>...</td>\n      <td>3.0</td>\n      <td>11.0</td>\n      <td>183.0</td>\n      <td>1662.081967</td>\n      <td>1454.984098</td>\n      <td>33.0</td>\n      <td>394.50</td>\n      <td>1325.0</td>\n      <td>2850.0</td>\n      <td>9596.0</td>\n    </tr>\n    <tr>\n      <th>33160</th>\n      <td>605.0</td>\n      <td>9.650681e+05</td>\n      <td>2.263725e+06</td>\n      <td>2100.0</td>\n      <td>156000.00</td>\n      <td>200000.00</td>\n      <td>258550.0000</td>\n      <td>7894646.50</td>\n      <td>605.0</td>\n      <td>56.844628</td>\n      <td>...</td>\n      <td>3.0</td>\n      <td>7.0</td>\n      <td>177.0</td>\n      <td>1859.824859</td>\n      <td>1874.290802</td>\n      <td>1.0</td>\n      <td>337.00</td>\n      <td>1000.0</td>\n      <td>4127.0</td>\n      <td>12452.0</td>\n    </tr>\n    <tr>\n      <th>33170</th>\n      <td>1368.0</td>\n      <td>7.785822e+05</td>\n      <td>1.846409e+06</td>\n      <td>1000.0</td>\n      <td>90950.00</td>\n      <td>150000.00</td>\n      <td>231718.1425</td>\n      <td>9050000.00</td>\n      <td>1368.0</td>\n      <td>54.175439</td>\n      <td>...</td>\n      <td>3.0</td>\n      <td>6.0</td>\n      <td>66.0</td>\n      <td>11379.045455</td>\n      <td>9406.844313</td>\n      <td>95.0</td>\n      <td>500.00</td>\n      <td>19387.0</td>\n      <td>19387.0</td>\n      <td>19387.0</td>\n    </tr>\n    <tr>\n      <th>33185</th>\n      <td>356.0</td>\n      <td>6.297428e+05</td>\n      <td>1.613210e+06</td>\n      <td>75000.0</td>\n      <td>157374.75</td>\n      <td>183500.00</td>\n      <td>230000.0000</td>\n      <td>7894646.50</td>\n      <td>356.0</td>\n      <td>54.761236</td>\n      <td>...</td>\n      <td>3.0</td>\n      <td>6.0</td>\n      <td>19.0</td>\n      <td>505.842105</td>\n      <td>313.277524</td>\n      <td>140.0</td>\n      <td>255.50</td>\n      <td>485.0</td>\n      <td>613.0</td>\n      <td>1046.0</td>\n    </tr>\n    <tr>\n      <th>33270</th>\n      <td>589.0</td>\n      <td>1.987774e+05</td>\n      <td>1.474968e+05</td>\n      <td>25000.0</td>\n      <td>131500.00</td>\n      <td>163500.00</td>\n      <td>205000.0000</td>\n      <td>1360000.00</td>\n      <td>589.0</td>\n      <td>60.008489</td>\n      <td>...</td>\n      <td>3.0</td>\n      <td>11.0</td>\n      <td>108.0</td>\n      <td>590.509259</td>\n      <td>450.188216</td>\n      <td>23.0</td>\n      <td>255.75</td>\n      <td>441.0</td>\n      <td>809.0</td>\n      <td>1508.0</td>\n    </tr>\n    <tr>\n      <th>33290</th>\n      <td>889.0</td>\n      <td>7.676672e+05</td>\n      <td>1.754283e+06</td>\n      <td>30990.0</td>\n      <td>128500.00</td>\n      <td>163500.00</td>\n      <td>222050.0000</td>\n      <td>6403637.50</td>\n      <td>889.0</td>\n      <td>58.755906</td>\n      <td>...</td>\n      <td>3.0</td>\n      <td>6.0</td>\n      <td>121.0</td>\n      <td>952.090909</td>\n      <td>2167.983641</td>\n      <td>86.0</td>\n      <td>174.00</td>\n      <td>499.0</td>\n      <td>1288.0</td>\n      <td>20300.0</td>\n    </tr>\n    <tr>\n      <th>33310</th>\n      <td>1236.0</td>\n      <td>4.287376e+05</td>\n      <td>9.568946e+05</td>\n      <td>0.0</td>\n      <td>115665.00</td>\n      <td>144000.00</td>\n      <td>184625.0000</td>\n      <td>3921037.00</td>\n      <td>1236.0</td>\n      <td>62.986246</td>\n      <td>...</td>\n      <td>4.0</td>\n      <td>6.0</td>\n      <td>189.0</td>\n      <td>893.592593</td>\n      <td>1206.195076</td>\n      <td>39.0</td>\n      <td>280.00</td>\n      <td>500.0</td>\n      <td>947.0</td>\n      <td>6974.0</td>\n    </tr>\n    <tr>\n      <th>33320</th>\n      <td>1208.0</td>\n      <td>3.709477e+05</td>\n      <td>7.634388e+05</td>\n      <td>39480.0</td>\n      <td>144449.95</td>\n      <td>175000.00</td>\n      <td>223525.0000</td>\n      <td>6231966.00</td>\n      <td>1208.0</td>\n      <td>56.190397</td>\n      <td>...</td>\n      <td>3.0</td>\n      <td>5.0</td>\n      <td>106.0</td>\n      <td>1257.679245</td>\n      <td>1225.476510</td>\n      <td>29.0</td>\n      <td>396.75</td>\n      <td>780.0</td>\n      <td>1968.0</td>\n      <td>3526.0</td>\n    </tr>\n    <tr>\n      <th>33370</th>\n      <td>544.0</td>\n      <td>4.133069e+05</td>\n      <td>1.086696e+06</td>\n      <td>29190.0</td>\n      <td>139382.50</td>\n      <td>161853.00</td>\n      <td>207500.0000</td>\n      <td>7485710.00</td>\n      <td>544.0</td>\n      <td>55.237132</td>\n      <td>...</td>\n      <td>3.0</td>\n      <td>8.0</td>\n      <td>71.0</td>\n      <td>2568.788732</td>\n      <td>6685.481628</td>\n      <td>61.0</td>\n      <td>356.00</td>\n      <td>672.0</td>\n      <td>2000.0</td>\n      <td>39865.0</td>\n    </tr>\n    <tr>\n      <th>33400</th>\n      <td>3921.0</td>\n      <td>1.046425e+06</td>\n      <td>2.378162e+06</td>\n      <td>5.0</td>\n      <td>109533.00</td>\n      <td>166600.00</td>\n      <td>297000.0000</td>\n      <td>10500000.00</td>\n      <td>3921.0</td>\n      <td>47.424382</td>\n      <td>...</td>\n      <td>3.0</td>\n      <td>6.0</td>\n      <td>578.0</td>\n      <td>1929.991349</td>\n      <td>2074.231461</td>\n      <td>40.0</td>\n      <td>481.75</td>\n      <td>979.0</td>\n      <td>2040.0</td>\n      <td>7092.0</td>\n    </tr>\n    <tr>\n      <th>33440</th>\n      <td>267.0</td>\n      <td>3.745676e+05</td>\n      <td>4.031917e+05</td>\n      <td>55100.0</td>\n      <td>114700.00</td>\n      <td>168561.87</td>\n      <td>415000.0000</td>\n      <td>1258446.20</td>\n      <td>267.0</td>\n      <td>55.636704</td>\n      <td>...</td>\n      <td>3.0</td>\n      <td>5.0</td>\n      <td>129.0</td>\n      <td>1470.372093</td>\n      <td>1217.315843</td>\n      <td>63.0</td>\n      <td>545.00</td>\n      <td>961.0</td>\n      <td>1830.0</td>\n      <td>5321.0</td>\n    </tr>\n    <tr>\n      <th>33520</th>\n      <td>1472.0</td>\n      <td>2.290274e+05</td>\n      <td>2.696030e+05</td>\n      <td>0.0</td>\n      <td>147000.00</td>\n      <td>178000.00</td>\n      <td>220000.0000</td>\n      <td>2944440.00</td>\n      <td>1472.0</td>\n      <td>59.124321</td>\n      <td>...</td>\n      <td>3.0</td>\n      <td>30.0</td>\n      <td>39.0</td>\n      <td>1749.871795</td>\n      <td>2018.231146</td>\n      <td>204.0</td>\n      <td>494.00</td>\n      <td>1924.0</td>\n      <td>1924.0</td>\n      <td>12469.0</td>\n    </tr>\n    <tr>\n      <th>33530</th>\n      <td>215.0</td>\n      <td>1.997768e+05</td>\n      <td>1.279435e+05</td>\n      <td>73300.0</td>\n      <td>151254.00</td>\n      <td>165426.42</td>\n      <td>207450.0000</td>\n      <td>730437.00</td>\n      <td>215.0</td>\n      <td>51.748837</td>\n      <td>...</td>\n      <td>3.0</td>\n      <td>4.0</td>\n      <td>25.0</td>\n      <td>308.040000</td>\n      <td>109.395110</td>\n      <td>90.0</td>\n      <td>259.00</td>\n      <td>264.0</td>\n      <td>359.0</td>\n      <td>729.0</td>\n    </tr>\n    <tr>\n      <th>33560</th>\n      <td>309.0</td>\n      <td>1.930805e+05</td>\n      <td>1.648389e+05</td>\n      <td>30000.0</td>\n      <td>117670.00</td>\n      <td>135000.00</td>\n      <td>186604.0000</td>\n      <td>935000.00</td>\n      <td>309.0</td>\n      <td>52.352751</td>\n      <td>...</td>\n      <td>3.0</td>\n      <td>6.0</td>\n      <td>25.0</td>\n      <td>3357.920000</td>\n      <td>4974.637331</td>\n      <td>126.0</td>\n      <td>500.00</td>\n      <td>848.0</td>\n      <td>4496.0</td>\n      <td>18039.0</td>\n    </tr>\n    <tr>\n      <th>33600</th>\n      <td>2761.0</td>\n      <td>3.468511e+05</td>\n      <td>6.934810e+05</td>\n      <td>250.0</td>\n      <td>122860.00</td>\n      <td>168000.00</td>\n      <td>242000.0000</td>\n      <td>4825000.00</td>\n      <td>2761.0</td>\n      <td>57.494748</td>\n      <td>...</td>\n      <td>3.0</td>\n      <td>7.0</td>\n      <td>278.0</td>\n      <td>1563.701439</td>\n      <td>3350.403541</td>\n      <td>58.0</td>\n      <td>500.00</td>\n      <td>870.0</td>\n      <td>2069.0</td>\n      <td>39193.0</td>\n    </tr>\n    <tr>\n      <th>33700</th>\n      <td>5820.0</td>\n      <td>4.321404e+05</td>\n      <td>1.597139e+06</td>\n      <td>1.0</td>\n      <td>129000.00</td>\n      <td>166000.00</td>\n      <td>220500.0000</td>\n      <td>16142400.00</td>\n      <td>5820.0</td>\n      <td>60.837113</td>\n      <td>...</td>\n      <td>4.0</td>\n      <td>7.0</td>\n      <td>212.0</td>\n      <td>5589.518868</td>\n      <td>4582.380988</td>\n      <td>71.0</td>\n      <td>571.75</td>\n      <td>3571.0</td>\n      <td>10500.0</td>\n      <td>10500.0</td>\n    </tr>\n    <tr>\n      <th>33810</th>\n      <td>82.0</td>\n      <td>2.677392e+05</td>\n      <td>3.097934e+05</td>\n      <td>60000.0</td>\n      <td>132875.00</td>\n      <td>145000.00</td>\n      <td>188012.5000</td>\n      <td>1040100.00</td>\n      <td>82.0</td>\n      <td>57.097561</td>\n      <td>...</td>\n      <td>3.0</td>\n      <td>6.0</td>\n      <td>27.0</td>\n      <td>1175.592593</td>\n      <td>639.132180</td>\n      <td>85.0</td>\n      <td>948.00</td>\n      <td>1243.0</td>\n      <td>1816.0</td>\n      <td>1816.0</td>\n    </tr>\n  </tbody>\n</table>\n<p>22 rows × 32 columns</p>\n</div>"
     },
     "execution_count": 24,
     "metadata": {},
     "output_type": "execute_result"
    }
   ],
   "source": [
    "df_group = df_housing_appartment.groupby(['code_postal'])\n",
    "df_group.describe()"
   ],
   "metadata": {
    "collapsed": false,
    "pycharm": {
     "name": "#%%\n"
    }
   }
  },
  {
   "cell_type": "code",
   "execution_count": 26,
   "outputs": [
    {
     "ename": "ValueError",
     "evalue": "Invalid file path or buffer object type: <class 'tuple'>",
     "output_type": "error",
     "traceback": [
      "\u001B[1;31m---------------------------------------------------------------------------\u001B[0m",
      "\u001B[1;31mValueError\u001B[0m                                Traceback (most recent call last)",
      "Input \u001B[1;32mIn [26]\u001B[0m, in \u001B[0;36m<module>\u001B[1;34m\u001B[0m\n\u001B[0;32m      1\u001B[0m \u001B[38;5;66;03m# Exporting the descriptive statistics for each postal code into csv file\u001B[39;00m\n\u001B[0;32m      2\u001B[0m \u001B[38;5;28;01mfor\u001B[39;00m postalcode \u001B[38;5;129;01min\u001B[39;00m df_group:\n\u001B[1;32m----> 3\u001B[0m     \u001B[43mdf_housing_appartment\u001B[49m\u001B[38;5;241;43m.\u001B[39;49m\u001B[43mto_csv\u001B[49m\u001B[43m(\u001B[49m\u001B[43mpostalcode\u001B[49m\u001B[43m,\u001B[49m\u001B[43m \u001B[49m\u001B[43mindex\u001B[49m\u001B[43m \u001B[49m\u001B[38;5;241;43m=\u001B[39;49m\u001B[43m \u001B[49m\u001B[38;5;124;43m'\u001B[39;49m\u001B[38;5;124;43mcode_postal\u001B[39;49m\u001B[38;5;124;43m'\u001B[39;49m\u001B[43m)\u001B[49m\n",
      "File \u001B[1;32mc:\\users\\timothé durand\\appdata\\local\\programs\\python\\python38\\lib\\site-packages\\pandas\\core\\generic.py:3563\u001B[0m, in \u001B[0;36mNDFrame.to_csv\u001B[1;34m(self, path_or_buf, sep, na_rep, float_format, columns, header, index, index_label, mode, encoding, compression, quoting, quotechar, line_terminator, chunksize, date_format, doublequote, escapechar, decimal, errors, storage_options)\u001B[0m\n\u001B[0;32m   3552\u001B[0m df \u001B[38;5;241m=\u001B[39m \u001B[38;5;28mself\u001B[39m \u001B[38;5;28;01mif\u001B[39;00m \u001B[38;5;28misinstance\u001B[39m(\u001B[38;5;28mself\u001B[39m, ABCDataFrame) \u001B[38;5;28;01melse\u001B[39;00m \u001B[38;5;28mself\u001B[39m\u001B[38;5;241m.\u001B[39mto_frame()\n\u001B[0;32m   3554\u001B[0m formatter \u001B[38;5;241m=\u001B[39m DataFrameFormatter(\n\u001B[0;32m   3555\u001B[0m     frame\u001B[38;5;241m=\u001B[39mdf,\n\u001B[0;32m   3556\u001B[0m     header\u001B[38;5;241m=\u001B[39mheader,\n\u001B[1;32m   (...)\u001B[0m\n\u001B[0;32m   3560\u001B[0m     decimal\u001B[38;5;241m=\u001B[39mdecimal,\n\u001B[0;32m   3561\u001B[0m )\n\u001B[1;32m-> 3563\u001B[0m \u001B[38;5;28;01mreturn\u001B[39;00m \u001B[43mDataFrameRenderer\u001B[49m\u001B[43m(\u001B[49m\u001B[43mformatter\u001B[49m\u001B[43m)\u001B[49m\u001B[38;5;241;43m.\u001B[39;49m\u001B[43mto_csv\u001B[49m\u001B[43m(\u001B[49m\n\u001B[0;32m   3564\u001B[0m \u001B[43m    \u001B[49m\u001B[43mpath_or_buf\u001B[49m\u001B[43m,\u001B[49m\n\u001B[0;32m   3565\u001B[0m \u001B[43m    \u001B[49m\u001B[43mline_terminator\u001B[49m\u001B[38;5;241;43m=\u001B[39;49m\u001B[43mline_terminator\u001B[49m\u001B[43m,\u001B[49m\n\u001B[0;32m   3566\u001B[0m \u001B[43m    \u001B[49m\u001B[43msep\u001B[49m\u001B[38;5;241;43m=\u001B[39;49m\u001B[43msep\u001B[49m\u001B[43m,\u001B[49m\n\u001B[0;32m   3567\u001B[0m \u001B[43m    \u001B[49m\u001B[43mencoding\u001B[49m\u001B[38;5;241;43m=\u001B[39;49m\u001B[43mencoding\u001B[49m\u001B[43m,\u001B[49m\n\u001B[0;32m   3568\u001B[0m \u001B[43m    \u001B[49m\u001B[43merrors\u001B[49m\u001B[38;5;241;43m=\u001B[39;49m\u001B[43merrors\u001B[49m\u001B[43m,\u001B[49m\n\u001B[0;32m   3569\u001B[0m \u001B[43m    \u001B[49m\u001B[43mcompression\u001B[49m\u001B[38;5;241;43m=\u001B[39;49m\u001B[43mcompression\u001B[49m\u001B[43m,\u001B[49m\n\u001B[0;32m   3570\u001B[0m \u001B[43m    \u001B[49m\u001B[43mquoting\u001B[49m\u001B[38;5;241;43m=\u001B[39;49m\u001B[43mquoting\u001B[49m\u001B[43m,\u001B[49m\n\u001B[0;32m   3571\u001B[0m \u001B[43m    \u001B[49m\u001B[43mcolumns\u001B[49m\u001B[38;5;241;43m=\u001B[39;49m\u001B[43mcolumns\u001B[49m\u001B[43m,\u001B[49m\n\u001B[0;32m   3572\u001B[0m \u001B[43m    \u001B[49m\u001B[43mindex_label\u001B[49m\u001B[38;5;241;43m=\u001B[39;49m\u001B[43mindex_label\u001B[49m\u001B[43m,\u001B[49m\n\u001B[0;32m   3573\u001B[0m \u001B[43m    \u001B[49m\u001B[43mmode\u001B[49m\u001B[38;5;241;43m=\u001B[39;49m\u001B[43mmode\u001B[49m\u001B[43m,\u001B[49m\n\u001B[0;32m   3574\u001B[0m \u001B[43m    \u001B[49m\u001B[43mchunksize\u001B[49m\u001B[38;5;241;43m=\u001B[39;49m\u001B[43mchunksize\u001B[49m\u001B[43m,\u001B[49m\n\u001B[0;32m   3575\u001B[0m \u001B[43m    \u001B[49m\u001B[43mquotechar\u001B[49m\u001B[38;5;241;43m=\u001B[39;49m\u001B[43mquotechar\u001B[49m\u001B[43m,\u001B[49m\n\u001B[0;32m   3576\u001B[0m \u001B[43m    \u001B[49m\u001B[43mdate_format\u001B[49m\u001B[38;5;241;43m=\u001B[39;49m\u001B[43mdate_format\u001B[49m\u001B[43m,\u001B[49m\n\u001B[0;32m   3577\u001B[0m \u001B[43m    \u001B[49m\u001B[43mdoublequote\u001B[49m\u001B[38;5;241;43m=\u001B[39;49m\u001B[43mdoublequote\u001B[49m\u001B[43m,\u001B[49m\n\u001B[0;32m   3578\u001B[0m \u001B[43m    \u001B[49m\u001B[43mescapechar\u001B[49m\u001B[38;5;241;43m=\u001B[39;49m\u001B[43mescapechar\u001B[49m\u001B[43m,\u001B[49m\n\u001B[0;32m   3579\u001B[0m \u001B[43m    \u001B[49m\u001B[43mstorage_options\u001B[49m\u001B[38;5;241;43m=\u001B[39;49m\u001B[43mstorage_options\u001B[49m\u001B[43m,\u001B[49m\n\u001B[0;32m   3580\u001B[0m \u001B[43m\u001B[49m\u001B[43m)\u001B[49m\n",
      "File \u001B[1;32mc:\\users\\timothé durand\\appdata\\local\\programs\\python\\python38\\lib\\site-packages\\pandas\\io\\formats\\format.py:1180\u001B[0m, in \u001B[0;36mDataFrameRenderer.to_csv\u001B[1;34m(self, path_or_buf, encoding, sep, columns, index_label, mode, compression, quoting, quotechar, line_terminator, chunksize, date_format, doublequote, escapechar, errors, storage_options)\u001B[0m\n\u001B[0;32m   1159\u001B[0m     created_buffer \u001B[38;5;241m=\u001B[39m \u001B[38;5;28;01mFalse\u001B[39;00m\n\u001B[0;32m   1161\u001B[0m csv_formatter \u001B[38;5;241m=\u001B[39m CSVFormatter(\n\u001B[0;32m   1162\u001B[0m     path_or_buf\u001B[38;5;241m=\u001B[39mpath_or_buf,\n\u001B[0;32m   1163\u001B[0m     line_terminator\u001B[38;5;241m=\u001B[39mline_terminator,\n\u001B[1;32m   (...)\u001B[0m\n\u001B[0;32m   1178\u001B[0m     formatter\u001B[38;5;241m=\u001B[39m\u001B[38;5;28mself\u001B[39m\u001B[38;5;241m.\u001B[39mfmt,\n\u001B[0;32m   1179\u001B[0m )\n\u001B[1;32m-> 1180\u001B[0m \u001B[43mcsv_formatter\u001B[49m\u001B[38;5;241;43m.\u001B[39;49m\u001B[43msave\u001B[49m\u001B[43m(\u001B[49m\u001B[43m)\u001B[49m\n\u001B[0;32m   1182\u001B[0m \u001B[38;5;28;01mif\u001B[39;00m created_buffer:\n\u001B[0;32m   1183\u001B[0m     \u001B[38;5;28;01massert\u001B[39;00m \u001B[38;5;28misinstance\u001B[39m(path_or_buf, StringIO)\n",
      "File \u001B[1;32mc:\\users\\timothé durand\\appdata\\local\\programs\\python\\python38\\lib\\site-packages\\pandas\\io\\formats\\csvs.py:241\u001B[0m, in \u001B[0;36mCSVFormatter.save\u001B[1;34m(self)\u001B[0m\n\u001B[0;32m    237\u001B[0m \u001B[38;5;124;03m\"\"\"\u001B[39;00m\n\u001B[0;32m    238\u001B[0m \u001B[38;5;124;03mCreate the writer & save.\u001B[39;00m\n\u001B[0;32m    239\u001B[0m \u001B[38;5;124;03m\"\"\"\u001B[39;00m\n\u001B[0;32m    240\u001B[0m \u001B[38;5;66;03m# apply compression and byte/text conversion\u001B[39;00m\n\u001B[1;32m--> 241\u001B[0m \u001B[38;5;28;01mwith\u001B[39;00m \u001B[43mget_handle\u001B[49m\u001B[43m(\u001B[49m\n\u001B[0;32m    242\u001B[0m \u001B[43m    \u001B[49m\u001B[38;5;28;43mself\u001B[39;49m\u001B[38;5;241;43m.\u001B[39;49m\u001B[43mfilepath_or_buffer\u001B[49m\u001B[43m,\u001B[49m\n\u001B[0;32m    243\u001B[0m \u001B[43m    \u001B[49m\u001B[38;5;28;43mself\u001B[39;49m\u001B[38;5;241;43m.\u001B[39;49m\u001B[43mmode\u001B[49m\u001B[43m,\u001B[49m\n\u001B[0;32m    244\u001B[0m \u001B[43m    \u001B[49m\u001B[43mencoding\u001B[49m\u001B[38;5;241;43m=\u001B[39;49m\u001B[38;5;28;43mself\u001B[39;49m\u001B[38;5;241;43m.\u001B[39;49m\u001B[43mencoding\u001B[49m\u001B[43m,\u001B[49m\n\u001B[0;32m    245\u001B[0m \u001B[43m    \u001B[49m\u001B[43merrors\u001B[49m\u001B[38;5;241;43m=\u001B[39;49m\u001B[38;5;28;43mself\u001B[39;49m\u001B[38;5;241;43m.\u001B[39;49m\u001B[43merrors\u001B[49m\u001B[43m,\u001B[49m\n\u001B[0;32m    246\u001B[0m \u001B[43m    \u001B[49m\u001B[43mcompression\u001B[49m\u001B[38;5;241;43m=\u001B[39;49m\u001B[38;5;28;43mself\u001B[39;49m\u001B[38;5;241;43m.\u001B[39;49m\u001B[43mcompression\u001B[49m\u001B[43m,\u001B[49m\n\u001B[0;32m    247\u001B[0m \u001B[43m    \u001B[49m\u001B[43mstorage_options\u001B[49m\u001B[38;5;241;43m=\u001B[39;49m\u001B[38;5;28;43mself\u001B[39;49m\u001B[38;5;241;43m.\u001B[39;49m\u001B[43mstorage_options\u001B[49m\u001B[43m,\u001B[49m\n\u001B[0;32m    248\u001B[0m \u001B[43m\u001B[49m\u001B[43m)\u001B[49m \u001B[38;5;28;01mas\u001B[39;00m handles:\n\u001B[0;32m    249\u001B[0m \n\u001B[0;32m    250\u001B[0m     \u001B[38;5;66;03m# Note: self.encoding is irrelevant here\u001B[39;00m\n\u001B[0;32m    251\u001B[0m     \u001B[38;5;28mself\u001B[39m\u001B[38;5;241m.\u001B[39mwriter \u001B[38;5;241m=\u001B[39m csvlib\u001B[38;5;241m.\u001B[39mwriter(\n\u001B[0;32m    252\u001B[0m         handles\u001B[38;5;241m.\u001B[39mhandle,\n\u001B[0;32m    253\u001B[0m         lineterminator\u001B[38;5;241m=\u001B[39m\u001B[38;5;28mself\u001B[39m\u001B[38;5;241m.\u001B[39mline_terminator,\n\u001B[1;32m   (...)\u001B[0m\n\u001B[0;32m    258\u001B[0m         quotechar\u001B[38;5;241m=\u001B[39m\u001B[38;5;28mself\u001B[39m\u001B[38;5;241m.\u001B[39mquotechar,\n\u001B[0;32m    259\u001B[0m     )\n\u001B[0;32m    261\u001B[0m     \u001B[38;5;28mself\u001B[39m\u001B[38;5;241m.\u001B[39m_save()\n",
      "File \u001B[1;32mc:\\users\\timothé durand\\appdata\\local\\programs\\python\\python38\\lib\\site-packages\\pandas\\io\\common.py:670\u001B[0m, in \u001B[0;36mget_handle\u001B[1;34m(path_or_buf, mode, encoding, compression, memory_map, is_text, errors, storage_options)\u001B[0m\n\u001B[0;32m    667\u001B[0m     codecs\u001B[38;5;241m.\u001B[39mlookup_error(errors)\n\u001B[0;32m    669\u001B[0m \u001B[38;5;66;03m# open URLs\u001B[39;00m\n\u001B[1;32m--> 670\u001B[0m ioargs \u001B[38;5;241m=\u001B[39m \u001B[43m_get_filepath_or_buffer\u001B[49m\u001B[43m(\u001B[49m\n\u001B[0;32m    671\u001B[0m \u001B[43m    \u001B[49m\u001B[43mpath_or_buf\u001B[49m\u001B[43m,\u001B[49m\n\u001B[0;32m    672\u001B[0m \u001B[43m    \u001B[49m\u001B[43mencoding\u001B[49m\u001B[38;5;241;43m=\u001B[39;49m\u001B[43mencoding\u001B[49m\u001B[43m,\u001B[49m\n\u001B[0;32m    673\u001B[0m \u001B[43m    \u001B[49m\u001B[43mcompression\u001B[49m\u001B[38;5;241;43m=\u001B[39;49m\u001B[43mcompression\u001B[49m\u001B[43m,\u001B[49m\n\u001B[0;32m    674\u001B[0m \u001B[43m    \u001B[49m\u001B[43mmode\u001B[49m\u001B[38;5;241;43m=\u001B[39;49m\u001B[43mmode\u001B[49m\u001B[43m,\u001B[49m\n\u001B[0;32m    675\u001B[0m \u001B[43m    \u001B[49m\u001B[43mstorage_options\u001B[49m\u001B[38;5;241;43m=\u001B[39;49m\u001B[43mstorage_options\u001B[49m\u001B[43m,\u001B[49m\n\u001B[0;32m    676\u001B[0m \u001B[43m\u001B[49m\u001B[43m)\u001B[49m\n\u001B[0;32m    678\u001B[0m handle \u001B[38;5;241m=\u001B[39m ioargs\u001B[38;5;241m.\u001B[39mfilepath_or_buffer\n\u001B[0;32m    679\u001B[0m handles: \u001B[38;5;28mlist\u001B[39m[BaseBuffer]\n",
      "File \u001B[1;32mc:\\users\\timothé durand\\appdata\\local\\programs\\python\\python38\\lib\\site-packages\\pandas\\io\\common.py:427\u001B[0m, in \u001B[0;36m_get_filepath_or_buffer\u001B[1;34m(filepath_or_buffer, encoding, compression, mode, storage_options)\u001B[0m\n\u001B[0;32m    423\u001B[0m \u001B[38;5;28;01mif\u001B[39;00m \u001B[38;5;129;01mnot\u001B[39;00m (\n\u001B[0;32m    424\u001B[0m     \u001B[38;5;28mhasattr\u001B[39m(filepath_or_buffer, \u001B[38;5;124m\"\u001B[39m\u001B[38;5;124mread\u001B[39m\u001B[38;5;124m\"\u001B[39m) \u001B[38;5;129;01mor\u001B[39;00m \u001B[38;5;28mhasattr\u001B[39m(filepath_or_buffer, \u001B[38;5;124m\"\u001B[39m\u001B[38;5;124mwrite\u001B[39m\u001B[38;5;124m\"\u001B[39m)\n\u001B[0;32m    425\u001B[0m ):\n\u001B[0;32m    426\u001B[0m     msg \u001B[38;5;241m=\u001B[39m \u001B[38;5;124mf\u001B[39m\u001B[38;5;124m\"\u001B[39m\u001B[38;5;124mInvalid file path or buffer object type: \u001B[39m\u001B[38;5;132;01m{\u001B[39;00m\u001B[38;5;28mtype\u001B[39m(filepath_or_buffer)\u001B[38;5;132;01m}\u001B[39;00m\u001B[38;5;124m\"\u001B[39m\n\u001B[1;32m--> 427\u001B[0m     \u001B[38;5;28;01mraise\u001B[39;00m \u001B[38;5;167;01mValueError\u001B[39;00m(msg)\n\u001B[0;32m    429\u001B[0m \u001B[38;5;28;01mreturn\u001B[39;00m IOArgs(\n\u001B[0;32m    430\u001B[0m     filepath_or_buffer\u001B[38;5;241m=\u001B[39mfilepath_or_buffer,\n\u001B[0;32m    431\u001B[0m     encoding\u001B[38;5;241m=\u001B[39mencoding,\n\u001B[1;32m   (...)\u001B[0m\n\u001B[0;32m    434\u001B[0m     mode\u001B[38;5;241m=\u001B[39mmode,\n\u001B[0;32m    435\u001B[0m )\n",
      "\u001B[1;31mValueError\u001B[0m: Invalid file path or buffer object type: <class 'tuple'>"
     ]
    }
   ],
   "source": [
    "# Exporting the descriptive statistics for each postal code into csv file\n",
    "for postalcode in df_group:\n",
    "    df_housing_appartment.to_csv(postalcode, index = 'code_postal')\n"
   ],
   "metadata": {
    "collapsed": false,
    "pycharm": {
     "name": "#%%\n"
    }
   }
  },
  {
   "cell_type": "code",
   "execution_count": 24,
   "outputs": [],
   "source": [],
   "metadata": {
    "collapsed": false,
    "pycharm": {
     "name": "#%%\n"
    }
   }
  },
  {
   "cell_type": "markdown",
   "source": [
    "Q2: Data analysis and Visualization"
   ],
   "metadata": {
    "collapsed": false,
    "pycharm": {
     "name": "#%% md\n"
    }
   }
  },
  {
   "cell_type": "markdown",
   "source": [
    "(A) For long strategy, we choose simple-moving average (SMA) pairs (i.e., 5-day SMA and 10-day SMA) to analyze the trend in the stock market. Please compute 5-day SMA and 10-day SMA of the close price sequence, plot, and labels 5-day SMA and 10-day SMA with blue and red solid curves, respectively. Please attach the figure in the report."
   ],
   "metadata": {
    "collapsed": false,
    "pycharm": {
     "name": "#%% md\n"
    }
   }
  },
  {
   "cell_type": "code",
   "execution_count": 27,
   "outputs": [],
   "source": [
    "# Load libraries\n",
    "import matplotlib.pyplot as plt\n",
    "import numpy as np"
   ],
   "metadata": {
    "collapsed": false,
    "pycharm": {
     "name": "#%%\n"
    }
   }
  },
  {
   "cell_type": "code",
   "execution_count": 32,
   "outputs": [
    {
     "ename": "AttributeError",
     "evalue": "'AxesSubplot' object has no property 'figsize'",
     "output_type": "error",
     "traceback": [
      "\u001B[1;31m---------------------------------------------------------------------------\u001B[0m",
      "\u001B[1;31mAttributeError\u001B[0m                            Traceback (most recent call last)",
      "Input \u001B[1;32mIn [32]\u001B[0m, in \u001B[0;36m<module>\u001B[1;34m\u001B[0m\n\u001B[0;32m     16\u001B[0m df[\u001B[38;5;124m'\u001B[39m\u001B[38;5;124mmy_close_short\u001B[39m\u001B[38;5;124m'\u001B[39m] \u001B[38;5;241m=\u001B[39m calc_moving_window(df[\u001B[38;5;124m'\u001B[39m\u001B[38;5;124mClose\u001B[39m\u001B[38;5;124m'\u001B[39m]\u001B[38;5;241m.\u001B[39mvalues, short)\n\u001B[0;32m     17\u001B[0m df[\u001B[38;5;124m'\u001B[39m\u001B[38;5;124mmy_close_long\u001B[39m\u001B[38;5;124m'\u001B[39m] \u001B[38;5;241m=\u001B[39m calc_moving_window(df[\u001B[38;5;124m'\u001B[39m\u001B[38;5;124mClose\u001B[39m\u001B[38;5;124m'\u001B[39m]\u001B[38;5;241m.\u001B[39mvalues, long)\n\u001B[1;32m---> 22\u001B[0m fig, ax \u001B[38;5;241m=\u001B[39m \u001B[43mplt\u001B[49m\u001B[38;5;241;43m.\u001B[39;49m\u001B[43msubplot\u001B[49m\u001B[43m(\u001B[49m\u001B[43mfigsize\u001B[49m\u001B[38;5;241;43m=\u001B[39;49m\u001B[43m(\u001B[49m\u001B[38;5;241;43m16\u001B[39;49m\u001B[43m,\u001B[49m\u001B[38;5;241;43m9\u001B[39;49m\u001B[43m)\u001B[49m\u001B[43m)\u001B[49m\n\u001B[0;32m     24\u001B[0m ax1 \u001B[38;5;241m=\u001B[39m plt\u001B[38;5;241m.\u001B[39msubplot(df[\u001B[38;5;124m'\u001B[39m\u001B[38;5;124mmy_close_short\u001B[39m\u001B[38;5;124m'\u001B[39m], \u001B[38;5;124m'\u001B[39m\u001B[38;5;124mb-\u001B[39m\u001B[38;5;124m'\u001B[39m)\n\u001B[0;32m     25\u001B[0m ax2 \u001B[38;5;241m=\u001B[39m plt\u001B[38;5;241m.\u001B[39msubplot(df[\u001B[38;5;124m'\u001B[39m\u001B[38;5;124mmy_close_long\u001B[39m\u001B[38;5;124m'\u001B[39m], \u001B[38;5;124m'\u001B[39m\u001B[38;5;124mr-\u001B[39m\u001B[38;5;124m'\u001B[39m)\n",
      "File \u001B[1;32mc:\\users\\timothé durand\\appdata\\local\\programs\\python\\python38\\lib\\site-packages\\matplotlib\\pyplot.py:1283\u001B[0m, in \u001B[0;36msubplot\u001B[1;34m(*args, **kwargs)\u001B[0m\n\u001B[0;32m   1280\u001B[0m             \u001B[38;5;28;01mbreak\u001B[39;00m\n\u001B[0;32m   1281\u001B[0m \u001B[38;5;28;01melse\u001B[39;00m:\n\u001B[0;32m   1282\u001B[0m     \u001B[38;5;66;03m# we have exhausted the known Axes and none match, make a new one!\u001B[39;00m\n\u001B[1;32m-> 1283\u001B[0m     ax \u001B[38;5;241m=\u001B[39m \u001B[43mfig\u001B[49m\u001B[38;5;241;43m.\u001B[39;49m\u001B[43madd_subplot\u001B[49m\u001B[43m(\u001B[49m\u001B[38;5;241;43m*\u001B[39;49m\u001B[43margs\u001B[49m\u001B[43m,\u001B[49m\u001B[43m \u001B[49m\u001B[38;5;241;43m*\u001B[39;49m\u001B[38;5;241;43m*\u001B[39;49m\u001B[43mkwargs\u001B[49m\u001B[43m)\u001B[49m\n\u001B[0;32m   1285\u001B[0m fig\u001B[38;5;241m.\u001B[39msca(ax)\n\u001B[0;32m   1287\u001B[0m bbox \u001B[38;5;241m=\u001B[39m ax\u001B[38;5;241m.\u001B[39mbbox\n",
      "File \u001B[1;32mc:\\users\\timothé durand\\appdata\\local\\programs\\python\\python38\\lib\\site-packages\\matplotlib\\figure.py:772\u001B[0m, in \u001B[0;36mFigureBase.add_subplot\u001B[1;34m(self, *args, **kwargs)\u001B[0m\n\u001B[0;32m    769\u001B[0m         args \u001B[38;5;241m=\u001B[39m \u001B[38;5;28mtuple\u001B[39m(\u001B[38;5;28mmap\u001B[39m(\u001B[38;5;28mint\u001B[39m, \u001B[38;5;28mstr\u001B[39m(args[\u001B[38;5;241m0\u001B[39m])))\n\u001B[0;32m    770\u001B[0m     projection_class, pkw \u001B[38;5;241m=\u001B[39m \u001B[38;5;28mself\u001B[39m\u001B[38;5;241m.\u001B[39m_process_projection_requirements(\n\u001B[0;32m    771\u001B[0m         \u001B[38;5;241m*\u001B[39margs, \u001B[38;5;241m*\u001B[39m\u001B[38;5;241m*\u001B[39mkwargs)\n\u001B[1;32m--> 772\u001B[0m     ax \u001B[38;5;241m=\u001B[39m \u001B[43msubplot_class_factory\u001B[49m\u001B[43m(\u001B[49m\u001B[43mprojection_class\u001B[49m\u001B[43m)\u001B[49m\u001B[43m(\u001B[49m\u001B[38;5;28;43mself\u001B[39;49m\u001B[43m,\u001B[49m\u001B[43m \u001B[49m\u001B[38;5;241;43m*\u001B[39;49m\u001B[43margs\u001B[49m\u001B[43m,\u001B[49m\u001B[43m \u001B[49m\u001B[38;5;241;43m*\u001B[39;49m\u001B[38;5;241;43m*\u001B[39;49m\u001B[43mpkw\u001B[49m\u001B[43m)\u001B[49m\n\u001B[0;32m    773\u001B[0m     key \u001B[38;5;241m=\u001B[39m (projection_class, pkw)\n\u001B[0;32m    774\u001B[0m \u001B[38;5;28;01mreturn\u001B[39;00m \u001B[38;5;28mself\u001B[39m\u001B[38;5;241m.\u001B[39m_add_axes_internal(ax, key)\n",
      "File \u001B[1;32mc:\\users\\timothé durand\\appdata\\local\\programs\\python\\python38\\lib\\site-packages\\matplotlib\\axes\\_subplots.py:34\u001B[0m, in \u001B[0;36mSubplotBase.__init__\u001B[1;34m(self, fig, *args, **kwargs)\u001B[0m\n\u001B[0;32m     15\u001B[0m \u001B[38;5;124;03m\"\"\"\u001B[39;00m\n\u001B[0;32m     16\u001B[0m \u001B[38;5;124;03mParameters\u001B[39;00m\n\u001B[0;32m     17\u001B[0m \u001B[38;5;124;03m----------\u001B[39;00m\n\u001B[1;32m   (...)\u001B[0m\n\u001B[0;32m     31\u001B[0m \u001B[38;5;124;03m    Keyword arguments are passed to the Axes (sub)class constructor.\u001B[39;00m\n\u001B[0;32m     32\u001B[0m \u001B[38;5;124;03m\"\"\"\u001B[39;00m\n\u001B[0;32m     33\u001B[0m \u001B[38;5;66;03m# _axes_class is set in the subplot_class_factory\u001B[39;00m\n\u001B[1;32m---> 34\u001B[0m \u001B[38;5;28;43mself\u001B[39;49m\u001B[38;5;241;43m.\u001B[39;49m\u001B[43m_axes_class\u001B[49m\u001B[38;5;241;43m.\u001B[39;49m\u001B[38;5;21;43m__init__\u001B[39;49m\u001B[43m(\u001B[49m\u001B[38;5;28;43mself\u001B[39;49m\u001B[43m,\u001B[49m\u001B[43m \u001B[49m\u001B[43mfig\u001B[49m\u001B[43m,\u001B[49m\u001B[43m \u001B[49m\u001B[43m[\u001B[49m\u001B[38;5;241;43m0\u001B[39;49m\u001B[43m,\u001B[49m\u001B[43m \u001B[49m\u001B[38;5;241;43m0\u001B[39;49m\u001B[43m,\u001B[49m\u001B[43m \u001B[49m\u001B[38;5;241;43m1\u001B[39;49m\u001B[43m,\u001B[49m\u001B[43m \u001B[49m\u001B[38;5;241;43m1\u001B[39;49m\u001B[43m]\u001B[49m\u001B[43m,\u001B[49m\u001B[43m \u001B[49m\u001B[38;5;241;43m*\u001B[39;49m\u001B[38;5;241;43m*\u001B[39;49m\u001B[43mkwargs\u001B[49m\u001B[43m)\u001B[49m\n\u001B[0;32m     35\u001B[0m \u001B[38;5;66;03m# This will also update the axes position.\u001B[39;00m\n\u001B[0;32m     36\u001B[0m \u001B[38;5;28mself\u001B[39m\u001B[38;5;241m.\u001B[39mset_subplotspec(SubplotSpec\u001B[38;5;241m.\u001B[39m_from_subplot_args(fig, args))\n",
      "File \u001B[1;32mc:\\users\\timothé durand\\appdata\\local\\programs\\python\\python38\\lib\\site-packages\\matplotlib\\_api\\deprecation.py:456\u001B[0m, in \u001B[0;36mmake_keyword_only.<locals>.wrapper\u001B[1;34m(*args, **kwargs)\u001B[0m\n\u001B[0;32m    450\u001B[0m \u001B[38;5;28;01mif\u001B[39;00m \u001B[38;5;28mlen\u001B[39m(args) \u001B[38;5;241m>\u001B[39m name_idx:\n\u001B[0;32m    451\u001B[0m     warn_deprecated(\n\u001B[0;32m    452\u001B[0m         since, message\u001B[38;5;241m=\u001B[39m\u001B[38;5;124m\"\u001B[39m\u001B[38;5;124mPassing the \u001B[39m\u001B[38;5;132;01m%(name)s\u001B[39;00m\u001B[38;5;124m \u001B[39m\u001B[38;5;132;01m%(obj_type)s\u001B[39;00m\u001B[38;5;124m \u001B[39m\u001B[38;5;124m\"\u001B[39m\n\u001B[0;32m    453\u001B[0m         \u001B[38;5;124m\"\u001B[39m\u001B[38;5;124mpositionally is deprecated since Matplotlib \u001B[39m\u001B[38;5;132;01m%(since)s\u001B[39;00m\u001B[38;5;124m; the \u001B[39m\u001B[38;5;124m\"\u001B[39m\n\u001B[0;32m    454\u001B[0m         \u001B[38;5;124m\"\u001B[39m\u001B[38;5;124mparameter will become keyword-only \u001B[39m\u001B[38;5;132;01m%(removal)s\u001B[39;00m\u001B[38;5;124m.\u001B[39m\u001B[38;5;124m\"\u001B[39m,\n\u001B[0;32m    455\u001B[0m         name\u001B[38;5;241m=\u001B[39mname, obj_type\u001B[38;5;241m=\u001B[39m\u001B[38;5;124mf\u001B[39m\u001B[38;5;124m\"\u001B[39m\u001B[38;5;124mparameter of \u001B[39m\u001B[38;5;132;01m{\u001B[39;00mfunc\u001B[38;5;241m.\u001B[39m\u001B[38;5;18m__name__\u001B[39m\u001B[38;5;132;01m}\u001B[39;00m\u001B[38;5;124m()\u001B[39m\u001B[38;5;124m\"\u001B[39m)\n\u001B[1;32m--> 456\u001B[0m \u001B[38;5;28;01mreturn\u001B[39;00m \u001B[43mfunc\u001B[49m\u001B[43m(\u001B[49m\u001B[38;5;241;43m*\u001B[39;49m\u001B[43margs\u001B[49m\u001B[43m,\u001B[49m\u001B[43m \u001B[49m\u001B[38;5;241;43m*\u001B[39;49m\u001B[38;5;241;43m*\u001B[39;49m\u001B[43mkwargs\u001B[49m\u001B[43m)\u001B[49m\n",
      "File \u001B[1;32mc:\\users\\timothé durand\\appdata\\local\\programs\\python\\python38\\lib\\site-packages\\matplotlib\\axes\\_base.py:646\u001B[0m, in \u001B[0;36m_AxesBase.__init__\u001B[1;34m(self, fig, rect, facecolor, frameon, sharex, sharey, label, xscale, yscale, box_aspect, **kwargs)\u001B[0m\n\u001B[0;32m    643\u001B[0m \u001B[38;5;28;01mif\u001B[39;00m yscale:\n\u001B[0;32m    644\u001B[0m     \u001B[38;5;28mself\u001B[39m\u001B[38;5;241m.\u001B[39mset_yscale(yscale)\n\u001B[1;32m--> 646\u001B[0m \u001B[38;5;28;43mself\u001B[39;49m\u001B[38;5;241;43m.\u001B[39;49m\u001B[43mupdate\u001B[49m\u001B[43m(\u001B[49m\u001B[43mkwargs\u001B[49m\u001B[43m)\u001B[49m\n\u001B[0;32m    648\u001B[0m \u001B[38;5;28;01mfor\u001B[39;00m name, axis \u001B[38;5;129;01min\u001B[39;00m \u001B[38;5;28mself\u001B[39m\u001B[38;5;241m.\u001B[39m_get_axis_map()\u001B[38;5;241m.\u001B[39mitems():\n\u001B[0;32m    649\u001B[0m     axis\u001B[38;5;241m.\u001B[39mcallbacks\u001B[38;5;241m.\u001B[39m_pickled_cids\u001B[38;5;241m.\u001B[39madd(\n\u001B[0;32m    650\u001B[0m         axis\u001B[38;5;241m.\u001B[39mcallbacks\u001B[38;5;241m.\u001B[39mconnect(\n\u001B[0;32m    651\u001B[0m             \u001B[38;5;124m'\u001B[39m\u001B[38;5;124munits\u001B[39m\u001B[38;5;124m'\u001B[39m, \u001B[38;5;28mself\u001B[39m\u001B[38;5;241m.\u001B[39m_unit_change_handler(name)))\n",
      "File \u001B[1;32mc:\\users\\timothé durand\\appdata\\local\\programs\\python\\python38\\lib\\site-packages\\matplotlib\\artist.py:1064\u001B[0m, in \u001B[0;36mArtist.update\u001B[1;34m(self, props)\u001B[0m\n\u001B[0;32m   1062\u001B[0m             func \u001B[38;5;241m=\u001B[39m \u001B[38;5;28mgetattr\u001B[39m(\u001B[38;5;28mself\u001B[39m, \u001B[38;5;124mf\u001B[39m\u001B[38;5;124m\"\u001B[39m\u001B[38;5;124mset_\u001B[39m\u001B[38;5;132;01m{\u001B[39;00mk\u001B[38;5;132;01m}\u001B[39;00m\u001B[38;5;124m\"\u001B[39m, \u001B[38;5;28;01mNone\u001B[39;00m)\n\u001B[0;32m   1063\u001B[0m             \u001B[38;5;28;01mif\u001B[39;00m \u001B[38;5;129;01mnot\u001B[39;00m callable(func):\n\u001B[1;32m-> 1064\u001B[0m                 \u001B[38;5;28;01mraise\u001B[39;00m \u001B[38;5;167;01mAttributeError\u001B[39;00m(\u001B[38;5;124mf\u001B[39m\u001B[38;5;124m\"\u001B[39m\u001B[38;5;132;01m{\u001B[39;00m\u001B[38;5;28mtype\u001B[39m(\u001B[38;5;28mself\u001B[39m)\u001B[38;5;241m.\u001B[39m\u001B[38;5;18m__name__\u001B[39m\u001B[38;5;132;01m!r}\u001B[39;00m\u001B[38;5;124m object \u001B[39m\u001B[38;5;124m\"\u001B[39m\n\u001B[0;32m   1065\u001B[0m                                      \u001B[38;5;124mf\u001B[39m\u001B[38;5;124m\"\u001B[39m\u001B[38;5;124mhas no property \u001B[39m\u001B[38;5;132;01m{\u001B[39;00mk\u001B[38;5;132;01m!r}\u001B[39;00m\u001B[38;5;124m\"\u001B[39m)\n\u001B[0;32m   1066\u001B[0m             ret\u001B[38;5;241m.\u001B[39mappend(func(v))\n\u001B[0;32m   1067\u001B[0m \u001B[38;5;28;01mif\u001B[39;00m ret:\n",
      "\u001B[1;31mAttributeError\u001B[0m: 'AxesSubplot' object has no property 'figsize'"
     ]
    },
    {
     "data": {
      "text/plain": "<Figure size 432x288 with 0 Axes>"
     },
     "metadata": {},
     "output_type": "display_data"
    }
   ],
   "source": [
    "# Calculus of the 5 days SMA and 10 days SMA\n",
    "\n",
    "short, long = 5, 20\n",
    "ticker = 'TSLA'\n",
    "\n",
    "def calc_moving_window(seq, window):\n",
    "    avg_seq = []\n",
    "\n",
    "    for i in range(len(seq)):\n",
    "        if i >= window-1:\n",
    "            avg_seq.append(sum(seq[i-window+1:i+1]) / window)\n",
    "        else:\n",
    "            avg_seq.append(avg_seq)\n",
    "\n",
    "df = pd.read_excel('TSLA_2017_2020.xlsx')\n",
    "df['my_close_short'] = calc_moving_window(df['Close'].values, short)\n",
    "df['my_close_long'] = calc_moving_window(df['Close'].values, long)\n",
    "\n",
    "\n",
    "\n",
    "\n",
    "fig, ax = plt.subplot(figsize=(16,9))\n",
    "\n",
    "ax1 = plt.subplot(df['my_close_short'], 'b-')\n",
    "ax2 = plt.subplot(df['my_close_long'], 'r-')\n",
    "plt.xlabel('Date')\n",
    "plt.ylabel('Closing Price ($)')"
   ],
   "metadata": {
    "collapsed": false,
    "pycharm": {
     "name": "#%%\n"
    }
   }
  },
  {
   "cell_type": "code",
   "execution_count": null,
   "outputs": [],
   "source": [],
   "metadata": {
    "collapsed": false,
    "pycharm": {
     "name": "#%%\n"
    }
   }
  },
  {
   "cell_type": "code",
   "execution_count": null,
   "outputs": [],
   "source": [],
   "metadata": {
    "collapsed": false,
    "pycharm": {
     "name": "#%%\n"
    }
   }
  },
  {
   "cell_type": "code",
   "execution_count": null,
   "outputs": [],
   "source": [],
   "metadata": {
    "collapsed": false,
    "pycharm": {
     "name": "#%%\n"
    }
   }
  },
  {
   "cell_type": "code",
   "execution_count": null,
   "outputs": [],
   "source": [],
   "metadata": {
    "collapsed": false,
    "pycharm": {
     "name": "#%%\n"
    }
   }
  },
  {
   "cell_type": "code",
   "execution_count": null,
   "outputs": [],
   "source": [],
   "metadata": {
    "collapsed": false,
    "pycharm": {
     "name": "#%%\n"
    }
   }
  }
 ],
 "metadata": {
  "kernelspec": {
   "display_name": "Python 3",
   "language": "python",
   "name": "python3"
  },
  "language_info": {
   "codemirror_mode": {
    "name": "ipython",
    "version": 2
   },
   "file_extension": ".py",
   "mimetype": "text/x-python",
   "name": "python",
   "nbconvert_exporter": "python",
   "pygments_lexer": "ipython2",
   "version": "2.7.6"
  }
 },
 "nbformat": 4,
 "nbformat_minor": 0
}